{
 "cells": [
  {
   "cell_type": "code",
   "execution_count": 10,
   "metadata": {
    "collapsed": true
   },
   "outputs": [
    {
     "name": "stdout",
     "output_type": "stream",
     "text": [
      "Requirement already satisfied: bs4 in c:\\programdata\\anaconda3\\lib\\site-packages (0.0.1)\n",
      "Requirement already satisfied: beautifulsoup4 in c:\\programdata\\anaconda3\\lib\\site-packages (from bs4) (4.8.2)\n",
      "Requirement already satisfied: soupsieve>=1.2 in c:\\programdata\\anaconda3\\lib\\site-packages (from beautifulsoup4->bs4) (1.9.5)\n"
     ]
    },
    {
     "name": "stderr",
     "output_type": "stream",
     "text": [
      "WARNING: You are using pip version 20.1; however, version 20.1.1 is available.\n",
      "You should consider upgrading via the 'C:\\ProgramData\\Anaconda3\\python.exe -m pip install --upgrade pip' command.\n"
     ]
    },
    {
     "name": "stdout",
     "output_type": "stream",
     "text": [
      "Requirement already satisfied: selenium in c:\\programdata\\anaconda3\\lib\\site-packages (3.141.0)\n",
      "Requirement already satisfied: urllib3 in c:\\programdata\\anaconda3\\lib\\site-packages (from selenium) (1.25.8)\n"
     ]
    },
    {
     "name": "stderr",
     "output_type": "stream",
     "text": [
      "WARNING: You are using pip version 20.1; however, version 20.1.1 is available.\n",
      "You should consider upgrading via the 'C:\\ProgramData\\Anaconda3\\python.exe -m pip install --upgrade pip' command.\n"
     ]
    },
    {
     "name": "stdout",
     "output_type": "stream",
     "text": [
      "Requirement already satisfied: webdriver-manager in c:\\users\\александр\\appdata\\roaming\\python\\python37\\site-packages (3.2.1)\n",
      "Requirement already satisfied: crayons in c:\\programdata\\anaconda3\\lib\\site-packages (from webdriver-manager) (0.3.1)\n",
      "Requirement already satisfied: configparser in c:\\users\\александр\\appdata\\roaming\\python\\python37\\site-packages (from webdriver-manager) (5.0.0)\n",
      "Requirement already satisfied: requests in c:\\programdata\\anaconda3\\lib\\site-packages (from webdriver-manager) (2.22.0)\n",
      "Requirement already satisfied: colorama in c:\\programdata\\anaconda3\\lib\\site-packages (from crayons->webdriver-manager) (0.4.3)\n",
      "Requirement already satisfied: idna<2.9,>=2.5 in c:\\programdata\\anaconda3\\lib\\site-packages (from requests->webdriver-manager) (2.8)\n",
      "Requirement already satisfied: certifi>=2017.4.17 in c:\\programdata\\anaconda3\\lib\\site-packages (from requests->webdriver-manager) (2019.11.28)\n",
      "Requirement already satisfied: urllib3!=1.25.0,!=1.25.1,<1.26,>=1.21.1 in c:\\programdata\\anaconda3\\lib\\site-packages (from requests->webdriver-manager) (1.25.8)\n",
      "Requirement already satisfied: chardet<3.1.0,>=3.0.2 in c:\\programdata\\anaconda3\\lib\\site-packages (from requests->webdriver-manager) (3.0.4)\n"
     ]
    },
    {
     "name": "stderr",
     "output_type": "stream",
     "text": [
      "WARNING: You are using pip version 20.1; however, version 20.1.1 is available.\n",
      "You should consider upgrading via the 'C:\\ProgramData\\Anaconda3\\python.exe -m pip install --upgrade pip' command.\n"
     ]
    }
   ],
   "source": [
    "!pip install bs4"
   ]
  },
  {
   "cell_type": "code",
   "execution_count": 1,
   "metadata": {},
   "outputs": [],
   "source": [
    "import requests as req\n",
    "from bs4 import BeautifulSoup\n",
    "import re\n",
    "import string\n",
    "from tqdm import tqdm_notebook"
   ]
  },
  {
   "cell_type": "code",
   "execution_count": 132,
   "metadata": {},
   "outputs": [],
   "source": [
    "punctuation = '.,!?:;-'\n",
    "\n",
    "def preprocess_text(text):\n",
    "    text = text.lstrip()\n",
    "    text = re.sub('\\xa0', ' ', text)\n",
    "    text = re.sub(r\"\\d+\", '', text)\n",
    "    text = re.sub(r'\\([^()]*\\)', '', text)\n",
    "    text = text.replace('[]', '')\n",
    "    text = re.sub(r'[«»]', '', text)\n",
    "    #убрать все иностранные слова\n",
    "    return text"
   ]
  },
  {
   "cell_type": "code",
   "execution_count": 10,
   "metadata": {},
   "outputs": [],
   "source": [
    "def get_n_pages(link):\n",
    "    r = req.get(link)\n",
    "    soup = BeautifulSoup(r.content.decode(\"utf-8\"), 'lxml')\n",
    "    pages = soup.find_all('a', 'p')\n",
    "    if len(pages):\n",
    "        n_pages = int(pages[-1]['page'])\n",
    "    else:\n",
    "        n_pages = 1\n",
    "    return n_pages"
   ]
  },
  {
   "cell_type": "code",
   "execution_count": 11,
   "metadata": {},
   "outputs": [],
   "source": [
    "def get_book(link_for_book):\n",
    "    url_init = 'https://www.litmir.me'\n",
    "    url_for_books = url_init + link_for_book + '&p={}'\n",
    "    book = ''\n",
    "    n_pages = get_n_pages(url_for_books.format(1))\n",
    "    \n",
    "    for page in range(1, n_pages+1):\n",
    "        url = url_for_books.format(page)\n",
    "        r = req.get(url)\n",
    "        soup = BeautifulSoup(r.content.decode(\"utf-8\"), 'lxml')\n",
    "        raw_text = soup.find('div','page_text')\n",
    "        section_1 = raw_text.find('a', attrs = {'name':'section_1'})\n",
    "        if section_1:\n",
    "            section_1 = section_1.text\n",
    "            text = raw_text.text.replace(section_1, '')\n",
    "        else:\n",
    "            text = raw_text.text\n",
    "            \n",
    "        text = preprocess_text(text)\n",
    "        book += text\n",
    "    \n",
    "    return book"
   ]
  },
  {
   "cell_type": "code",
   "execution_count": 12,
   "metadata": {},
   "outputs": [],
   "source": [
    "def get_dataset(links):\n",
    "    dataset = ''\n",
    "    for link in links:\n",
    "        dataset += get_book(link)\n",
    "    return dataset"
   ]
  },
  {
   "cell_type": "code",
   "execution_count": 33,
   "metadata": {},
   "outputs": [],
   "source": [
    "def get_full_dataset(pages):\n",
    "    url_init = 'https://www.litmir.me/bs/?g=sg56' + '&p={}'\n",
    "    n_pages = min(pages, get_n_pages(url_init.format(1)))\n",
    "    full_dataset = ''\n",
    "    \n",
    "    for page in tqdm_notebook(range(1, n_pages)):\n",
    "        r = req.get(url_init.format(page))\n",
    "        soup = BeautifulSoup(r.content.decode(\"utf-8\"), 'lxml')\n",
    "        all_links = soup.find_all('div', attrs = {'style': 'width:180px; padding-top: 10px; margin-bottom: 13px;'})\n",
    "        links = []\n",
    "        for link in all_links:\n",
    "            try:\n",
    "                links.append(link.find('a')['href'])\n",
    "            except:\n",
    "                pass\n",
    "        full_dataset += get_dataset(links)\n",
    "        \n",
    "    return full_dataset"
   ]
  },
  {
   "cell_type": "code",
   "execution_count": 34,
   "metadata": {},
   "outputs": [
    {
     "name": "stderr",
     "output_type": "stream",
     "text": [
      "C:\\ProgramData\\Anaconda3\\lib\\site-packages\\ipykernel_launcher.py:6: TqdmDeprecationWarning: This function will be removed in tqdm==5.0.0\n",
      "Please use `tqdm.notebook.tqdm` instead of `tqdm.tqdm_notebook`\n",
      "  \n"
     ]
    },
    {
     "data": {
      "application/vnd.jupyter.widget-view+json": {
       "model_id": "5c0885f8e3154b8f825d5bdbad9aa5bc",
       "version_major": 2,
       "version_minor": 0
      },
      "text/plain": [
       "HBox(children=(FloatProgress(value=0.0, max=19.0), HTML(value='')))"
      ]
     },
     "metadata": {},
     "output_type": "display_data"
    },
    {
     "name": "stdout",
     "output_type": "stream",
     "text": [
      "\n"
     ]
    }
   ],
   "source": [
    "dataset = get_full_dataset(20)"
   ]
  },
  {
   "cell_type": "code",
   "execution_count": null,
   "metadata": {},
   "outputs": [],
   "source": [
    "setup = set(re.findall(r'[^ЙйЦцУуКкЕеНнГгШшЩщЗзХхъФфЫыВвАаПпРрОоЛлДдЖжэЭЯяЧчСсМмИиТтьБбЮюёЁ]', dataset))-set('!,.-?:; ')\n",
    "dataset = re.sub(r'[řЄU{iM“&È®΄ΣF′™‚−%χůεΟﬀαg̀γτúć‘‹Hѕł—žCÑvЈwκ<ěą\\u2003½V_oЪëbΘLP|πŽ°ΙÌñEt♣ї”Ó@©·ηíβΕі~ČΥÚσ`×d…№KΛѣ¦ò£ΜBЇQʼҐlς\\nDνο\\\\―„§c\"ρ€•±φx(sW›–ﬂμºTÁp¾Š’ΡΝjÄιX>kЬZђRSG\\xadefδΑśY)nІÍєÀўa\\'*hč=zNλmqšā#ArЅﬁIuJ+¼¿^ґ}¡æ/јyωO]', '', dataset)\n",
    "dataset = dataset.replace('[', '')\n",
    "dataset = dataset.replace(']', '')"
   ]
  },
  {
   "cell_type": "code",
   "execution_count": 130,
   "metadata": {},
   "outputs": [],
   "source": [
    "with open('dataset.txt', 'w', encoding='utf-8') as f:\n",
    "    f.write(dataset)"
   ]
  },
  {
   "cell_type": "code",
   "execution_count": null,
   "metadata": {},
   "outputs": [],
   "source": []
  }
 ],
 "metadata": {
  "kernelspec": {
   "display_name": "Python 3",
   "language": "python",
   "name": "python3"
  },
  "language_info": {
   "codemirror_mode": {
    "name": "ipython",
    "version": 3
   },
   "file_extension": ".py",
   "mimetype": "text/x-python",
   "name": "python",
   "nbconvert_exporter": "python",
   "pygments_lexer": "ipython3",
   "version": "3.7.3"
  }
 },
 "nbformat": 4,
 "nbformat_minor": 4
}
